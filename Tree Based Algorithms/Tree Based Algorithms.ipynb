{
 "cells": [
  {
   "cell_type": "markdown",
   "metadata": {},
   "source": [
    "# Mini Project: Tree-Based Algorithms"
   ]
  },
  {
   "cell_type": "markdown",
   "metadata": {},
   "source": [
    "## The \"German Credit\" Dataset"
   ]
  },
  {
   "cell_type": "markdown",
   "metadata": {},
   "source": [
    "### Dataset Details"
   ]
  },
  {
   "cell_type": "markdown",
   "metadata": {},
   "source": [
    "This dataset has two classes (these would be considered labels in Machine Learning terms) to describe the worthiness of a personal loan: \"Good\" or \"Bad\". There are predictors related to attributes, such as: checking account status, duration, credit history, purpose of the loan, amount of the loan, savings accounts or bonds, employment duration, installment rate in percentage of disposable income, personal information, other debtors/guarantors, residence duration, property, age, other installment plans, housing, number of existing credits, job information, number of people being liable to provide maintenance for, telephone, and foreign worker status.\n",
    "\n",
    "Many of these predictors are discrete and have been expanded into several 0/1 indicator variables (a.k.a. they have been one-hot-encoded).\n",
    "\n",
    "This dataset has been kindly provided by Professor Dr. Hans Hofmann of the University of Hamburg, and can also be found on the UCI Machine Learning Repository."
   ]
  },
  {
   "cell_type": "markdown",
   "metadata": {},
   "source": [
    "## Decision Trees"
   ]
  },
  {
   "cell_type": "markdown",
   "metadata": {},
   "source": [
    " As we have learned in the previous lectures, Decision Trees as a family of algorithms (irrespective to the particular implementation) are powerful algorithms that can produce models with a predictive accuracy higher than that produced by linear models, such as Linear or Logistic Regression. Primarily, this is due to the fact the DT's can model nonlinear relationships, and also have a number of tuning paramters, that allow for the practicioner to achieve the best possible model. An added bonus is the ability to visualize the trained Decision Tree model, which allows for some insight into how the model has produced the predictions that it has. One caveat here, to keep in mind, is that sometimes, due to the size of the dataset (both in the sense of the number of records, as well as the number of features), the visualization might prove to be very large and complex, increasing the difficulty of interpretation."
   ]
  },
  {
   "cell_type": "markdown",
   "metadata": {},
   "source": [
    "To give you a very good example of how Decision Trees can be visualized and interpreted, we would strongly recommend that, before continuing on with solving the problems in this Mini Project, you take the time to read this fanstastic, detailed and informative blog post: http://explained.ai/decision-tree-viz/index.html"
   ]
  },
  {
   "cell_type": "markdown",
   "metadata": {},
   "source": [
    "## Building Your First Decision Tree Model"
   ]
  },
  {
   "cell_type": "markdown",
   "metadata": {},
   "source": [
    "So, now it's time to jump straight into the heart of the matter. Your first task, is to build a Decision Tree model, using the aforementioned \"German Credit\" dataset, which contains 1,000 records, and 62 columns (one of them presents the labels, and the other 61 present the potential features for the model.)"
   ]
  },
  {
   "cell_type": "markdown",
   "metadata": {},
   "source": [
    "For this task, you will be using the scikit-learn library, which comes already pre-installed with the Anaconda Python distribution. In case you're not using that, you can easily install it using pip."
   ]
  },
  {
   "cell_type": "markdown",
   "metadata": {},
   "source": [
    "Before embarking on creating your first model, we would strongly encourage you to read the short tutorial for Decision Trees in scikit-learn (http://scikit-learn.org/stable/modules/tree.html), and then dive a bit deeper into the documentation of the algorithm itself (http://scikit-learn.org/stable/modules/generated/sklearn.tree.DecisionTreeClassifier.html). "
   ]
  },
  {
   "cell_type": "markdown",
   "metadata": {},
   "source": [
    "Also, since you want to be able to present the results of your model, we suggest you take a look at the tutorial for accuracy metrics for classification models (http://scikit-learn.org/stable/modules/model_evaluation.html#classification-report) as well as the more detailed documentation (http://scikit-learn.org/stable/modules/generated/sklearn.metrics.classification_report.html).\n",
    "\n",
    "Finally, an *amazing* resource that explains the various classification model accuracy metrics, as well as the relationships between them, can be found on Wikipedia: https://en.wikipedia.org/wiki/Confusion_matrix"
   ]
  },
  {
   "cell_type": "markdown",
   "metadata": {},
   "source": [
    "(Note: as you've already learned in the Logistic Regression mini project, a standard practice in Machine Learning for achieving the best possible result when training a model is to use hyperparameter tuning, through Grid Search and k-fold Cross Validation. We strongly encourage you to use it here as well, not just because it's standard practice, but also becuase it's not going to be computationally to intensive, due to the size of the dataset that you're working with. Our suggestion here is that you split the data into 70% training, and 30% testing. Then, do the hyperparameter tuning and Cross Validation on the training set, and afterwards to a final test on the testing set.)"
   ]
  },
  {
   "cell_type": "markdown",
   "metadata": {},
   "source": [
    "### Now we pass the torch onto you! You can start building your first Decision Tree model! :)"
   ]
  },
  {
   "cell_type": "code",
   "execution_count": 1,
   "metadata": {},
   "outputs": [],
   "source": [
    "import pandas as pd\n",
    "from sklearn.tree import DecisionTreeClassifier\n",
    "from sklearn.metrics import classification_report\n",
    "from sklearn.model_selection import train_test_split\n",
    "from sklearn.model_selection import GridSearchCV"
   ]
  },
  {
   "cell_type": "code",
   "execution_count": 2,
   "metadata": {},
   "outputs": [
    {
     "data": {
      "text/html": [
       "<div>\n",
       "<style scoped>\n",
       "    .dataframe tbody tr th:only-of-type {\n",
       "        vertical-align: middle;\n",
       "    }\n",
       "\n",
       "    .dataframe tbody tr th {\n",
       "        vertical-align: top;\n",
       "    }\n",
       "\n",
       "    .dataframe thead th {\n",
       "        text-align: right;\n",
       "    }\n",
       "</style>\n",
       "<table border=\"1\" class=\"dataframe\">\n",
       "  <thead>\n",
       "    <tr style=\"text-align: right;\">\n",
       "      <th></th>\n",
       "      <th>Duration</th>\n",
       "      <th>Amount</th>\n",
       "      <th>InstallmentRatePercentage</th>\n",
       "      <th>ResidenceDuration</th>\n",
       "      <th>Age</th>\n",
       "      <th>NumberExistingCredits</th>\n",
       "      <th>NumberPeopleMaintenance</th>\n",
       "      <th>Telephone</th>\n",
       "      <th>ForeignWorker</th>\n",
       "      <th>Class</th>\n",
       "      <th>...</th>\n",
       "      <th>OtherInstallmentPlans.Bank</th>\n",
       "      <th>OtherInstallmentPlans.Stores</th>\n",
       "      <th>OtherInstallmentPlans.None</th>\n",
       "      <th>Housing.Rent</th>\n",
       "      <th>Housing.Own</th>\n",
       "      <th>Housing.ForFree</th>\n",
       "      <th>Job.UnemployedUnskilled</th>\n",
       "      <th>Job.UnskilledResident</th>\n",
       "      <th>Job.SkilledEmployee</th>\n",
       "      <th>Job.Management.SelfEmp.HighlyQualified</th>\n",
       "    </tr>\n",
       "  </thead>\n",
       "  <tbody>\n",
       "    <tr>\n",
       "      <th>0</th>\n",
       "      <td>6</td>\n",
       "      <td>1169</td>\n",
       "      <td>4</td>\n",
       "      <td>4</td>\n",
       "      <td>67</td>\n",
       "      <td>2</td>\n",
       "      <td>1</td>\n",
       "      <td>0</td>\n",
       "      <td>1</td>\n",
       "      <td>Good</td>\n",
       "      <td>...</td>\n",
       "      <td>0</td>\n",
       "      <td>0</td>\n",
       "      <td>1</td>\n",
       "      <td>0</td>\n",
       "      <td>1</td>\n",
       "      <td>0</td>\n",
       "      <td>0</td>\n",
       "      <td>0</td>\n",
       "      <td>1</td>\n",
       "      <td>0</td>\n",
       "    </tr>\n",
       "    <tr>\n",
       "      <th>1</th>\n",
       "      <td>48</td>\n",
       "      <td>5951</td>\n",
       "      <td>2</td>\n",
       "      <td>2</td>\n",
       "      <td>22</td>\n",
       "      <td>1</td>\n",
       "      <td>1</td>\n",
       "      <td>1</td>\n",
       "      <td>1</td>\n",
       "      <td>Bad</td>\n",
       "      <td>...</td>\n",
       "      <td>0</td>\n",
       "      <td>0</td>\n",
       "      <td>1</td>\n",
       "      <td>0</td>\n",
       "      <td>1</td>\n",
       "      <td>0</td>\n",
       "      <td>0</td>\n",
       "      <td>0</td>\n",
       "      <td>1</td>\n",
       "      <td>0</td>\n",
       "    </tr>\n",
       "    <tr>\n",
       "      <th>2</th>\n",
       "      <td>12</td>\n",
       "      <td>2096</td>\n",
       "      <td>2</td>\n",
       "      <td>3</td>\n",
       "      <td>49</td>\n",
       "      <td>1</td>\n",
       "      <td>2</td>\n",
       "      <td>1</td>\n",
       "      <td>1</td>\n",
       "      <td>Good</td>\n",
       "      <td>...</td>\n",
       "      <td>0</td>\n",
       "      <td>0</td>\n",
       "      <td>1</td>\n",
       "      <td>0</td>\n",
       "      <td>1</td>\n",
       "      <td>0</td>\n",
       "      <td>0</td>\n",
       "      <td>1</td>\n",
       "      <td>0</td>\n",
       "      <td>0</td>\n",
       "    </tr>\n",
       "    <tr>\n",
       "      <th>3</th>\n",
       "      <td>42</td>\n",
       "      <td>7882</td>\n",
       "      <td>2</td>\n",
       "      <td>4</td>\n",
       "      <td>45</td>\n",
       "      <td>1</td>\n",
       "      <td>2</td>\n",
       "      <td>1</td>\n",
       "      <td>1</td>\n",
       "      <td>Good</td>\n",
       "      <td>...</td>\n",
       "      <td>0</td>\n",
       "      <td>0</td>\n",
       "      <td>1</td>\n",
       "      <td>0</td>\n",
       "      <td>0</td>\n",
       "      <td>1</td>\n",
       "      <td>0</td>\n",
       "      <td>0</td>\n",
       "      <td>1</td>\n",
       "      <td>0</td>\n",
       "    </tr>\n",
       "    <tr>\n",
       "      <th>4</th>\n",
       "      <td>24</td>\n",
       "      <td>4870</td>\n",
       "      <td>3</td>\n",
       "      <td>4</td>\n",
       "      <td>53</td>\n",
       "      <td>2</td>\n",
       "      <td>2</td>\n",
       "      <td>1</td>\n",
       "      <td>1</td>\n",
       "      <td>Bad</td>\n",
       "      <td>...</td>\n",
       "      <td>0</td>\n",
       "      <td>0</td>\n",
       "      <td>1</td>\n",
       "      <td>0</td>\n",
       "      <td>0</td>\n",
       "      <td>1</td>\n",
       "      <td>0</td>\n",
       "      <td>0</td>\n",
       "      <td>1</td>\n",
       "      <td>0</td>\n",
       "    </tr>\n",
       "    <tr>\n",
       "      <th>...</th>\n",
       "      <td>...</td>\n",
       "      <td>...</td>\n",
       "      <td>...</td>\n",
       "      <td>...</td>\n",
       "      <td>...</td>\n",
       "      <td>...</td>\n",
       "      <td>...</td>\n",
       "      <td>...</td>\n",
       "      <td>...</td>\n",
       "      <td>...</td>\n",
       "      <td>...</td>\n",
       "      <td>...</td>\n",
       "      <td>...</td>\n",
       "      <td>...</td>\n",
       "      <td>...</td>\n",
       "      <td>...</td>\n",
       "      <td>...</td>\n",
       "      <td>...</td>\n",
       "      <td>...</td>\n",
       "      <td>...</td>\n",
       "      <td>...</td>\n",
       "    </tr>\n",
       "    <tr>\n",
       "      <th>995</th>\n",
       "      <td>12</td>\n",
       "      <td>1736</td>\n",
       "      <td>3</td>\n",
       "      <td>4</td>\n",
       "      <td>31</td>\n",
       "      <td>1</td>\n",
       "      <td>1</td>\n",
       "      <td>1</td>\n",
       "      <td>1</td>\n",
       "      <td>Good</td>\n",
       "      <td>...</td>\n",
       "      <td>0</td>\n",
       "      <td>0</td>\n",
       "      <td>1</td>\n",
       "      <td>0</td>\n",
       "      <td>1</td>\n",
       "      <td>0</td>\n",
       "      <td>0</td>\n",
       "      <td>1</td>\n",
       "      <td>0</td>\n",
       "      <td>0</td>\n",
       "    </tr>\n",
       "    <tr>\n",
       "      <th>996</th>\n",
       "      <td>30</td>\n",
       "      <td>3857</td>\n",
       "      <td>4</td>\n",
       "      <td>4</td>\n",
       "      <td>40</td>\n",
       "      <td>1</td>\n",
       "      <td>1</td>\n",
       "      <td>0</td>\n",
       "      <td>1</td>\n",
       "      <td>Good</td>\n",
       "      <td>...</td>\n",
       "      <td>0</td>\n",
       "      <td>0</td>\n",
       "      <td>1</td>\n",
       "      <td>0</td>\n",
       "      <td>1</td>\n",
       "      <td>0</td>\n",
       "      <td>0</td>\n",
       "      <td>0</td>\n",
       "      <td>0</td>\n",
       "      <td>1</td>\n",
       "    </tr>\n",
       "    <tr>\n",
       "      <th>997</th>\n",
       "      <td>12</td>\n",
       "      <td>804</td>\n",
       "      <td>4</td>\n",
       "      <td>4</td>\n",
       "      <td>38</td>\n",
       "      <td>1</td>\n",
       "      <td>1</td>\n",
       "      <td>1</td>\n",
       "      <td>1</td>\n",
       "      <td>Good</td>\n",
       "      <td>...</td>\n",
       "      <td>0</td>\n",
       "      <td>0</td>\n",
       "      <td>1</td>\n",
       "      <td>0</td>\n",
       "      <td>1</td>\n",
       "      <td>0</td>\n",
       "      <td>0</td>\n",
       "      <td>0</td>\n",
       "      <td>1</td>\n",
       "      <td>0</td>\n",
       "    </tr>\n",
       "    <tr>\n",
       "      <th>998</th>\n",
       "      <td>45</td>\n",
       "      <td>1845</td>\n",
       "      <td>4</td>\n",
       "      <td>4</td>\n",
       "      <td>23</td>\n",
       "      <td>1</td>\n",
       "      <td>1</td>\n",
       "      <td>0</td>\n",
       "      <td>1</td>\n",
       "      <td>Bad</td>\n",
       "      <td>...</td>\n",
       "      <td>0</td>\n",
       "      <td>0</td>\n",
       "      <td>1</td>\n",
       "      <td>0</td>\n",
       "      <td>0</td>\n",
       "      <td>1</td>\n",
       "      <td>0</td>\n",
       "      <td>0</td>\n",
       "      <td>1</td>\n",
       "      <td>0</td>\n",
       "    </tr>\n",
       "    <tr>\n",
       "      <th>999</th>\n",
       "      <td>45</td>\n",
       "      <td>4576</td>\n",
       "      <td>3</td>\n",
       "      <td>4</td>\n",
       "      <td>27</td>\n",
       "      <td>1</td>\n",
       "      <td>1</td>\n",
       "      <td>1</td>\n",
       "      <td>1</td>\n",
       "      <td>Good</td>\n",
       "      <td>...</td>\n",
       "      <td>0</td>\n",
       "      <td>0</td>\n",
       "      <td>1</td>\n",
       "      <td>0</td>\n",
       "      <td>1</td>\n",
       "      <td>0</td>\n",
       "      <td>0</td>\n",
       "      <td>0</td>\n",
       "      <td>1</td>\n",
       "      <td>0</td>\n",
       "    </tr>\n",
       "  </tbody>\n",
       "</table>\n",
       "<p>1000 rows × 62 columns</p>\n",
       "</div>"
      ],
      "text/plain": [
       "     Duration  Amount  InstallmentRatePercentage  ResidenceDuration  Age  \\\n",
       "0           6    1169                          4                  4   67   \n",
       "1          48    5951                          2                  2   22   \n",
       "2          12    2096                          2                  3   49   \n",
       "3          42    7882                          2                  4   45   \n",
       "4          24    4870                          3                  4   53   \n",
       "..        ...     ...                        ...                ...  ...   \n",
       "995        12    1736                          3                  4   31   \n",
       "996        30    3857                          4                  4   40   \n",
       "997        12     804                          4                  4   38   \n",
       "998        45    1845                          4                  4   23   \n",
       "999        45    4576                          3                  4   27   \n",
       "\n",
       "     NumberExistingCredits  NumberPeopleMaintenance  Telephone  ForeignWorker  \\\n",
       "0                        2                        1          0              1   \n",
       "1                        1                        1          1              1   \n",
       "2                        1                        2          1              1   \n",
       "3                        1                        2          1              1   \n",
       "4                        2                        2          1              1   \n",
       "..                     ...                      ...        ...            ...   \n",
       "995                      1                        1          1              1   \n",
       "996                      1                        1          0              1   \n",
       "997                      1                        1          1              1   \n",
       "998                      1                        1          0              1   \n",
       "999                      1                        1          1              1   \n",
       "\n",
       "    Class  ...  OtherInstallmentPlans.Bank  OtherInstallmentPlans.Stores  \\\n",
       "0    Good  ...                           0                             0   \n",
       "1     Bad  ...                           0                             0   \n",
       "2    Good  ...                           0                             0   \n",
       "3    Good  ...                           0                             0   \n",
       "4     Bad  ...                           0                             0   \n",
       "..    ...  ...                         ...                           ...   \n",
       "995  Good  ...                           0                             0   \n",
       "996  Good  ...                           0                             0   \n",
       "997  Good  ...                           0                             0   \n",
       "998   Bad  ...                           0                             0   \n",
       "999  Good  ...                           0                             0   \n",
       "\n",
       "     OtherInstallmentPlans.None  Housing.Rent  Housing.Own  Housing.ForFree  \\\n",
       "0                             1             0            1                0   \n",
       "1                             1             0            1                0   \n",
       "2                             1             0            1                0   \n",
       "3                             1             0            0                1   \n",
       "4                             1             0            0                1   \n",
       "..                          ...           ...          ...              ...   \n",
       "995                           1             0            1                0   \n",
       "996                           1             0            1                0   \n",
       "997                           1             0            1                0   \n",
       "998                           1             0            0                1   \n",
       "999                           1             0            1                0   \n",
       "\n",
       "     Job.UnemployedUnskilled  Job.UnskilledResident  Job.SkilledEmployee  \\\n",
       "0                          0                      0                    1   \n",
       "1                          0                      0                    1   \n",
       "2                          0                      1                    0   \n",
       "3                          0                      0                    1   \n",
       "4                          0                      0                    1   \n",
       "..                       ...                    ...                  ...   \n",
       "995                        0                      1                    0   \n",
       "996                        0                      0                    0   \n",
       "997                        0                      0                    1   \n",
       "998                        0                      0                    1   \n",
       "999                        0                      0                    1   \n",
       "\n",
       "     Job.Management.SelfEmp.HighlyQualified  \n",
       "0                                         0  \n",
       "1                                         0  \n",
       "2                                         0  \n",
       "3                                         0  \n",
       "4                                         0  \n",
       "..                                      ...  \n",
       "995                                       0  \n",
       "996                                       1  \n",
       "997                                       0  \n",
       "998                                       0  \n",
       "999                                       0  \n",
       "\n",
       "[1000 rows x 62 columns]"
      ]
     },
     "metadata": {},
     "output_type": "display_data"
    }
   ],
   "source": [
    "german_credit_df = pd.read_csv(\"GermanCredit.csv\")\n",
    "display(german_credit_df)"
   ]
  },
  {
   "cell_type": "markdown",
   "metadata": {},
   "source": [
    "Creating the decision tree model using GridSearchCV, and getting the test output from the model."
   ]
  },
  {
   "cell_type": "code",
   "execution_count": 3,
   "metadata": {},
   "outputs": [],
   "source": [
    "predictors = [\n",
    "    col_name \n",
    "    for col_name in german_credit_df.columns \n",
    "    if col_name != 'Class'\n",
    "]\n",
    "X = german_credit_df[predictors]\n",
    "y = (german_credit_df['Class'] == 'Good').astype('float')\n",
    "\n",
    "params = {\n",
    "    'test_size': 0.3,\n",
    "    'random_state': 42\n",
    "}\n",
    "X_train, X_test, y_train, y_test = train_test_split(X, y, **params)\n",
    "\n",
    "hyper_params = {\n",
    "    'min_samples_split': [2, 4, 8, 10],\n",
    "    'max_depth': [4, 6, 8]\n",
    "}\n",
    "dt = DecisionTreeClassifier()\n",
    "clf = GridSearchCV(dt, hyper_params)\n",
    "clf.fit(X_train, y_train)\n",
    "y_pred = clf.predict(X_test)"
   ]
  },
  {
   "cell_type": "markdown",
   "metadata": {},
   "source": [
    "Displaying the results after the predicted outputs."
   ]
  },
  {
   "cell_type": "code",
   "execution_count": 4,
   "metadata": {},
   "outputs": [
    {
     "name": "stdout",
     "output_type": "stream",
     "text": [
      "              precision    recall  f1-score   support\n",
      "\n",
      "         0.0       0.44      0.35      0.39        91\n",
      "         1.0       0.74      0.80      0.77       209\n",
      "\n",
      "    accuracy                           0.67       300\n",
      "   macro avg       0.59      0.58      0.58       300\n",
      "weighted avg       0.65      0.67      0.66       300\n",
      "\n"
     ]
    }
   ],
   "source": [
    "print(classification_report(y_test, y_pred))"
   ]
  },
  {
   "cell_type": "code",
   "execution_count": 5,
   "metadata": {},
   "outputs": [
    {
     "name": "stdout",
     "output_type": "stream",
     "text": [
      "{'max_depth': 4, 'min_samples_split': 2}\n"
     ]
    }
   ],
   "source": [
    "print(clf.best_params_)"
   ]
  },
  {
   "cell_type": "markdown",
   "metadata": {},
   "source": [
    "### After you've built the best model you can, now it's time to visualize it!"
   ]
  },
  {
   "cell_type": "markdown",
   "metadata": {},
   "source": [
    "Rememeber that amazing blog post from a few paragraphs ago, that demonstrated how to visualize and interpret the results of your Decision Tree model. We've seen that this can perform very well, but let's see how it does on the \"German Credit\" dataset that we're working on, due to it being a bit larger than the one used by the blog authors."
   ]
  },
  {
   "cell_type": "markdown",
   "metadata": {},
   "source": [
    "First, we're going to need to install their package. If you're using Anaconda, this can be done easily by running:"
   ]
  },
  {
   "cell_type": "code",
   "execution_count": 6,
   "metadata": {},
   "outputs": [
    {
     "name": "stdout",
     "output_type": "stream",
     "text": [
      "Requirement already satisfied: dtreeviz in /Users/AlwynLopez/opt/anaconda3/lib/python3.7/site-packages (1.1.4)\n",
      "Requirement already satisfied: pytest in /Users/AlwynLopez/opt/anaconda3/lib/python3.7/site-packages (from dtreeviz) (0.0.0)\n",
      "Requirement already satisfied: scikit-learn in /Users/AlwynLopez/opt/anaconda3/lib/python3.7/site-packages (from dtreeviz) (0.22.1)\n",
      "Requirement already satisfied: numpy in /Users/AlwynLopez/opt/anaconda3/lib/python3.7/site-packages (from dtreeviz) (1.19.2)\n",
      "Requirement already satisfied: graphviz>=0.9 in /Users/AlwynLopez/opt/anaconda3/lib/python3.7/site-packages (from dtreeviz) (0.16)\n",
      "Requirement already satisfied: matplotlib in /Users/AlwynLopez/opt/anaconda3/lib/python3.7/site-packages (from dtreeviz) (3.3.2)\n",
      "Requirement already satisfied: colour in /Users/AlwynLopez/opt/anaconda3/lib/python3.7/site-packages (from dtreeviz) (0.1.5)\n",
      "Requirement already satisfied: pandas in /Users/AlwynLopez/opt/anaconda3/lib/python3.7/site-packages (from dtreeviz) (1.2.0)\n",
      "Requirement already satisfied: python-dateutil>=2.1 in /Users/AlwynLopez/opt/anaconda3/lib/python3.7/site-packages (from matplotlib->dtreeviz) (2.8.1)\n",
      "Requirement already satisfied: pyparsing!=2.0.4,!=2.1.2,!=2.1.6,>=2.0.3 in /Users/AlwynLopez/opt/anaconda3/lib/python3.7/site-packages (from matplotlib->dtreeviz) (2.4.7)\n",
      "Requirement already satisfied: certifi>=2020.06.20 in /Users/AlwynLopez/opt/anaconda3/lib/python3.7/site-packages (from matplotlib->dtreeviz) (2020.12.5)\n",
      "Requirement already satisfied: kiwisolver>=1.0.1 in /Users/AlwynLopez/opt/anaconda3/lib/python3.7/site-packages (from matplotlib->dtreeviz) (1.3.0)\n",
      "Requirement already satisfied: pillow>=6.2.0 in /Users/AlwynLopez/opt/anaconda3/lib/python3.7/site-packages (from matplotlib->dtreeviz) (8.1.0)\n",
      "Requirement already satisfied: cycler>=0.10 in /Users/AlwynLopez/opt/anaconda3/lib/python3.7/site-packages (from matplotlib->dtreeviz) (0.10.0)\n",
      "Requirement already satisfied: six in /Users/AlwynLopez/opt/anaconda3/lib/python3.7/site-packages (from cycler>=0.10->matplotlib->dtreeviz) (1.15.0)\n",
      "Requirement already satisfied: pytz>=2017.3 in /Users/AlwynLopez/opt/anaconda3/lib/python3.7/site-packages (from pandas->dtreeviz) (2020.5)\n",
      "Requirement already satisfied: attrs>=19.2.0 in /Users/AlwynLopez/opt/anaconda3/lib/python3.7/site-packages (from pytest->dtreeviz) (20.3.0)\n",
      "Requirement already satisfied: iniconfig in /Users/AlwynLopez/opt/anaconda3/lib/python3.7/site-packages (from pytest->dtreeviz) (1.1.1)\n",
      "Requirement already satisfied: packaging in /Users/AlwynLopez/opt/anaconda3/lib/python3.7/site-packages (from pytest->dtreeviz) (20.8)\n",
      "Requirement already satisfied: pluggy<1.0.0a1,>=0.12 in /Users/AlwynLopez/opt/anaconda3/lib/python3.7/site-packages (from pytest->dtreeviz) (0.13.1)\n",
      "Requirement already satisfied: py>=1.8.2 in /Users/AlwynLopez/opt/anaconda3/lib/python3.7/site-packages (from pytest->dtreeviz) (1.10.0)\n",
      "Requirement already satisfied: toml in /Users/AlwynLopez/opt/anaconda3/lib/python3.7/site-packages (from pytest->dtreeviz) (0.10.1)\n",
      "Requirement already satisfied: importlib-metadata>=0.12 in /Users/AlwynLopez/opt/anaconda3/lib/python3.7/site-packages (from pytest->dtreeviz) (2.0.0)\n",
      "Requirement already satisfied: zipp>=0.5 in /Users/AlwynLopez/opt/anaconda3/lib/python3.7/site-packages (from importlib-metadata>=0.12->pytest->dtreeviz) (3.4.0)\n",
      "Requirement already satisfied: scipy>=0.17.0 in /Users/AlwynLopez/opt/anaconda3/lib/python3.7/site-packages (from scikit-learn->dtreeviz) (1.5.2)\n",
      "Requirement already satisfied: joblib>=0.11 in /Users/AlwynLopez/opt/anaconda3/lib/python3.7/site-packages (from scikit-learn->dtreeviz) (1.0.0)\n",
      "\u001b[33mWARNING: Error parsing requirements for tensorflow-estimator: [Errno 2] No such file or directory: '/Users/AlwynLopez/opt/anaconda3/lib/python3.7/site-packages/tensorflow_estimator-1.15.1.dist-info/METADATA'\u001b[0m\n"
     ]
    }
   ],
   "source": [
    "! pip install dtreeviz"
   ]
  },
  {
   "cell_type": "markdown",
   "metadata": {},
   "source": [
    "If for any reason this way of installing doesn't work for you straight out of the box, please refer to the more detailed documentation here: https://github.com/parrt/dtreeviz"
   ]
  },
  {
   "cell_type": "markdown",
   "metadata": {},
   "source": [
    "Now you're ready to visualize your Decision Tree model! Please feel free to use the blog post for guidance and inspiration!"
   ]
  },
  {
   "cell_type": "code",
   "execution_count": 7,
   "metadata": {},
   "outputs": [],
   "source": [
    "# Your code here! :)\n",
    "from dtreeviz.trees import dtreeviz\n",
    "\n",
    "dt = clf.best_estimator_\n",
    "\n",
    "viz_params = {\n",
    "    'target_name': 'class',\n",
    "    'feature_names': predictors,\n",
    "    'class_names': ['Bad', 'Good'],\n",
    "    'fancy': False\n",
    "}\n",
    "viz = dtreeviz(dt, X, y, **viz_params)\n",
    "viz.view() "
   ]
  },
  {
   "cell_type": "markdown",
   "metadata": {},
   "source": [
    "## Random Forests"
   ]
  },
  {
   "cell_type": "markdown",
   "metadata": {},
   "source": [
    "As discussed in the lecture videos, Decision Tree algorithms also have certain undesireable properties. Mainly the have low bias, which is good, but tend to have high variance - which is *not* so good (more about this problem here: https://en.wikipedia.org/wiki/Bias%E2%80%93variance_tradeoff)."
   ]
  },
  {
   "cell_type": "markdown",
   "metadata": {},
   "source": [
    "Noticing these problems, the late Professor Leo Breiman, in 2001, developed the Random Forests algorithm, which mitigates these problems, while at the same time providing even higher predictive accuracy than the majority of Decision Tree algorithm implementations. While the curriculum contains two excellent lectures on Random Forests, if you're interested, you can dive into the original paper here: https://link.springer.com/content/pdf/10.1023%2FA%3A1010933404324.pdf."
   ]
  },
  {
   "cell_type": "markdown",
   "metadata": {},
   "source": [
    "In the next part of this assignment, your are going to use the same \"German Credit\" dataset to train, tune, and measure the performance of a Random Forests model. You will also see certain functionalities that this model, even though it's a bit of a \"black box\", provides for some degree of interpretability."
   ]
  },
  {
   "cell_type": "markdown",
   "metadata": {},
   "source": [
    "First, let's build a Random Forests model, using the same best practices that you've used for your Decision Trees model. You can reuse the things you've already imported there, so no need to do any re-imports, new train/test splits, or loading up the data again."
   ]
  },
  {
   "cell_type": "code",
   "execution_count": 8,
   "metadata": {},
   "outputs": [],
   "source": [
    "from sklearn.ensemble import RandomForestClassifier"
   ]
  },
  {
   "cell_type": "code",
   "execution_count": 9,
   "metadata": {},
   "outputs": [],
   "source": [
    "# Your code here! :)\n",
    "hyper_params = {\n",
    "    'n_estimators': [100, 200, 300],\n",
    "    'min_samples_split': [2, 4, 8, 10],\n",
    "    'max_depth': [4, 6, 8]\n",
    "}\n",
    "rf = RandomForestClassifier()\n",
    "clf = GridSearchCV(rf, hyper_params)\n",
    "clf.fit(X_train, y_train)\n",
    "y_pred = clf.predict(X_test)"
   ]
  },
  {
   "cell_type": "code",
   "execution_count": 10,
   "metadata": {},
   "outputs": [
    {
     "name": "stdout",
     "output_type": "stream",
     "text": [
      "              precision    recall  f1-score   support\n",
      "\n",
      "         0.0       0.72      0.25      0.37        91\n",
      "         1.0       0.75      0.96      0.84       209\n",
      "\n",
      "    accuracy                           0.74       300\n",
      "   macro avg       0.73      0.60      0.61       300\n",
      "weighted avg       0.74      0.74      0.70       300\n",
      "\n"
     ]
    }
   ],
   "source": [
    "print(classification_report(y_test, y_pred))"
   ]
  },
  {
   "cell_type": "code",
   "execution_count": 11,
   "metadata": {},
   "outputs": [
    {
     "name": "stdout",
     "output_type": "stream",
     "text": [
      "{'max_depth': 8, 'min_samples_split': 2, 'n_estimators': 200}\n"
     ]
    }
   ],
   "source": [
    "print(clf.best_params_)"
   ]
  },
  {
   "cell_type": "markdown",
   "metadata": {},
   "source": [
    "As mentioned, there are certain ways to \"peek\" into a model created by the Random Forests algorithm. The first, and most popular one, is the Feature Importance calculation functionality. This allows the ML practitioner to see an ordering of the importance of the features that have contributed the most to the predictive accuracy of the model. \n",
    "\n",
    "You can see how to use this in the scikit-learn documentation (http://scikit-learn.org/stable/modules/generated/sklearn.ensemble.RandomForestClassifier.html#sklearn.ensemble.RandomForestClassifier.feature_importances_). Now, if you tried this, you would just get an ordered table of not directly interpretable numeric values. Thus, it's much more useful to show the feature importance in a visual way. You can see an example of how that's done here: http://scikit-learn.org/stable/auto_examples/ensemble/plot_forest_importances.html#sphx-glr-auto-examples-ensemble-plot-forest-importances-py\n",
    "\n",
    "Now you try! Let's visualize the importance of features from your Random Forests model!"
   ]
  },
  {
   "cell_type": "code",
   "execution_count": 12,
   "metadata": {},
   "outputs": [
    {
     "name": "stdout",
     "output_type": "stream",
     "text": [
      "                                Amount: (0.093909)\n",
      "                              Duration: (0.081151)\n",
      "            CheckingAccountStatus.none: (0.080219)\n",
      "                                   Age: (0.077992)\n",
      "            CheckingAccountStatus.lt.0: (0.039367)\n",
      "                CreditHistory.Critical: (0.032995)\n",
      "             InstallmentRatePercentage: (0.030613)\n",
      "                     ResidenceDuration: (0.025948)\n",
      "                        Purpose.NewCar: (0.023102)\n",
      "        CreditHistory.NoCredit.AllPaid: (0.021318)\n",
      "            SavingsAccountBonds.lt.100: (0.021044)\n",
      "                           Housing.Own: (0.018041)\n",
      "                 NumberExistingCredits: (0.017153)\n",
      "                             Telephone: (0.016140)\n",
      "        CheckingAccountStatus.0.to.200: (0.015709)\n",
      "        CreditHistory.ThisBank.AllPaid: (0.015616)\n",
      "                   Property.RealEstate: (0.015431)\n",
      "                      Property.Unknown: (0.015353)\n",
      "                CreditHistory.PaidDuly: (0.014251)\n",
      "            OtherInstallmentPlans.Bank: (0.014133)\n",
      "            OtherInstallmentPlans.None: (0.013631)\n",
      "               EmploymentDuration.lt.1: (0.013286)\n",
      "              Purpose.Radio.Television: (0.012759)\n",
      "           SavingsAccountBonds.Unknown: (0.012426)\n",
      "                      Purpose.Business: (0.012394)\n",
      "             Personal.Female.NotSingle: (0.012333)\n",
      "                  Personal.Male.Single: (0.011979)\n",
      "                   Job.SkilledEmployee: (0.011939)\n",
      "         EmploymentDuration.Unemployed: (0.011777)\n",
      "                     Property.CarOther: (0.011523)\n",
      "Job.Management.SelfEmp.HighlyQualified: (0.011517)\n",
      "                     Purpose.Education: (0.011170)\n",
      "               EmploymentDuration.gt.7: (0.010766)\n",
      "           Purpose.Furniture.Equipment: (0.010763)\n",
      "             EmploymentDuration.1.to.4: (0.010427)\n",
      "                          Housing.Rent: (0.009522)\n",
      "             EmploymentDuration.4.to.7: (0.009493)\n",
      "                       Housing.ForFree: (0.009190)\n",
      "           OtherDebtorsGuarantors.None: (0.008863)\n",
      "               NumberPeopleMaintenance: (0.008195)\n",
      "                    Property.Insurance: (0.008102)\n",
      "      OtherDebtorsGuarantors.Guarantor: (0.008038)\n",
      "                 Job.UnskilledResident: (0.007862)\n",
      "                   CreditHistory.Delay: (0.007835)\n",
      "                       Purpose.UsedCar: (0.007570)\n",
      "       SavingsAccountBonds.500.to.1000: (0.007079)\n",
      "          CheckingAccountStatus.gt.200: (0.006990)\n",
      "           SavingsAccountBonds.gt.1000: (0.006730)\n",
      "        SavingsAccountBonds.100.to.500: (0.006583)\n",
      "      Personal.Male.Divorced.Seperated: (0.006380)\n",
      "    OtherDebtorsGuarantors.CoApplicant: (0.006068)\n",
      "         Personal.Male.Married.Widowed: (0.005906)\n",
      "          OtherInstallmentPlans.Stores: (0.005281)\n",
      "                         ForeignWorker: (0.004491)\n",
      "                       Purpose.Repairs: (0.004022)\n",
      "                         Purpose.Other: (0.002577)\n",
      "               Job.UnemployedUnskilled: (0.002544)\n",
      "             Purpose.DomesticAppliance: (0.001637)\n",
      "                    Purpose.Retraining: (0.000867)\n",
      "                Personal.Female.Single: (0.000000)\n",
      "                      Purpose.Vacation: (0.000000)\n"
     ]
    },
    {
     "data": {
      "text/plain": [
       "<AxesSubplot:title={'center':'Feature Importance'}, ylabel='Importance'>"
      ]
     },
     "execution_count": 12,
     "metadata": {},
     "output_type": "execute_result"
    },
    {
     "data": {
      "image/png": "[encoded data removed]",
      "text/plain": [
       "<Figure size 1440x720 with 1 Axes>"
      ]
     },
     "metadata": {
      "needs_background": "light"
     },
     "output_type": "display_data"
    }
   ],
   "source": [
    "# Your code here\n",
    "import numpy as np\n",
    "import matplotlib.pyplot as plt\n",
    "\n",
    "rf = clf.best_estimator_\n",
    "importances = rf.feature_importances_\n",
    "indices = np.argsort(importances)[::-1]\n",
    "\n",
    "for i in indices:\n",
    "    print(\"%38s: (%f)\" % (predictors[i], importances[i]))\n",
    "    \n",
    "sorted_importances = [importances[i] for i in indices]\n",
    "sorted_predictors = [predictors[i] for i in indices]\n",
    "\n",
    "feature_importance_df = pd.DataFrame({'importances': sorted_importances, 'predictors': sorted_predictors})\n",
    "feature_importance_df.plot(\n",
    "    kind='bar', \n",
    "    x='predictors', \n",
    "    y='importances', \n",
    "    figsize=(20, 10), \n",
    "    title='Feature Importance',\n",
    "    xlabel = '',\n",
    "    ylabel = 'Importance')"
   ]
  },
  {
   "cell_type": "markdown",
   "metadata": {},
   "source": [
    "A final method for gaining some insight into the inner working of your Random Forests models is a so-called Partial Dependence Plot. The Partial Dependence Plot (PDP or PD plot) shows the marginal effect of a feature on the predicted outcome of a previously fit model. The prediction function is fixed at a few values of the chosen features and averaged over the other features. A partial dependence plot can show if the relationship between the target and a feature is linear, monotonic or more complex. \n",
    "\n",
    "In scikit-learn, PDPs are implemented and available for certain algorithms, but at this point (version 0.20.0) they are not yet implemented for Random Forests. Thankfully, there is an add-on package called **PDPbox** (https://pdpbox.readthedocs.io/en/latest/) which adds this functionality to Random Forests. The package is easy to install through pip."
   ]
  },
  {
   "cell_type": "code",
   "execution_count": 13,
   "metadata": {},
   "outputs": [
    {
     "name": "stdout",
     "output_type": "stream",
     "text": [
      "Requirement already satisfied: pdpbox in /Users/AlwynLopez/opt/anaconda3/lib/python3.7/site-packages (0.2.0)\n",
      "Requirement already satisfied: numpy in /Users/AlwynLopez/opt/anaconda3/lib/python3.7/site-packages (from pdpbox) (1.19.2)\n",
      "Requirement already satisfied: joblib in /Users/AlwynLopez/opt/anaconda3/lib/python3.7/site-packages (from pdpbox) (1.0.0)\n",
      "Requirement already satisfied: scipy in /Users/AlwynLopez/opt/anaconda3/lib/python3.7/site-packages (from pdpbox) (1.5.2)\n",
      "Requirement already satisfied: psutil in /Users/AlwynLopez/opt/anaconda3/lib/python3.7/site-packages (from pdpbox) (5.7.2)\n",
      "Requirement already satisfied: pandas in /Users/AlwynLopez/opt/anaconda3/lib/python3.7/site-packages (from pdpbox) (1.2.0)\n",
      "Requirement already satisfied: scikit-learn in /Users/AlwynLopez/opt/anaconda3/lib/python3.7/site-packages (from pdpbox) (0.22.1)\n",
      "Requirement already satisfied: matplotlib>=2.1.2 in /Users/AlwynLopez/opt/anaconda3/lib/python3.7/site-packages (from pdpbox) (3.3.2)\n",
      "Requirement already satisfied: certifi>=2020.06.20 in /Users/AlwynLopez/opt/anaconda3/lib/python3.7/site-packages (from matplotlib>=2.1.2->pdpbox) (2020.12.5)\n",
      "Requirement already satisfied: pyparsing!=2.0.4,!=2.1.2,!=2.1.6,>=2.0.3 in /Users/AlwynLopez/opt/anaconda3/lib/python3.7/site-packages (from matplotlib>=2.1.2->pdpbox) (2.4.7)\n",
      "Requirement already satisfied: cycler>=0.10 in /Users/AlwynLopez/opt/anaconda3/lib/python3.7/site-packages (from matplotlib>=2.1.2->pdpbox) (0.10.0)\n",
      "Requirement already satisfied: python-dateutil>=2.1 in /Users/AlwynLopez/opt/anaconda3/lib/python3.7/site-packages (from matplotlib>=2.1.2->pdpbox) (2.8.1)\n",
      "Requirement already satisfied: pillow>=6.2.0 in /Users/AlwynLopez/opt/anaconda3/lib/python3.7/site-packages (from matplotlib>=2.1.2->pdpbox) (8.1.0)\n",
      "Requirement already satisfied: kiwisolver>=1.0.1 in /Users/AlwynLopez/opt/anaconda3/lib/python3.7/site-packages (from matplotlib>=2.1.2->pdpbox) (1.3.0)\n",
      "Requirement already satisfied: six in /Users/AlwynLopez/opt/anaconda3/lib/python3.7/site-packages (from cycler>=0.10->matplotlib>=2.1.2->pdpbox) (1.15.0)\n",
      "Requirement already satisfied: pytz>=2017.3 in /Users/AlwynLopez/opt/anaconda3/lib/python3.7/site-packages (from pandas->pdpbox) (2020.5)\n",
      "\u001b[33mWARNING: Error parsing requirements for tensorflow-estimator: [Errno 2] No such file or directory: '/Users/AlwynLopez/opt/anaconda3/lib/python3.7/site-packages/tensorflow_estimator-1.15.1.dist-info/METADATA'\u001b[0m\n"
     ]
    }
   ],
   "source": [
    "! pip install pdpbox"
   ]
  },
  {
   "cell_type": "markdown",
   "metadata": {},
   "source": [
    "While we encourage you to read the documentation for the package (and reading package documentation in general is a good habit to develop), the authors of the package have also written an excellent blog post on how to use it, showing examples on different algorithms from scikit-learn (the Random Forests example is towards the end of the blog post): https://briangriner.github.io/Partial_Dependence_Plots_presentation-BrianGriner-PrincetonPublicLibrary-4.14.18-updated-4.22.18.html"
   ]
  },
  {
   "cell_type": "markdown",
   "metadata": {},
   "source": [
    "So, armed with this new knowledge, feel free to pick a few features, and make a couple of Partial Dependence Plots of your own!"
   ]
  },
  {
   "cell_type": "markdown",
   "metadata": {},
   "source": [
    "## (Optional) Advanced Boosting-Based Algorithms"
   ]
  },
  {
   "cell_type": "markdown",
   "metadata": {},
   "source": [
    "As explained in the video lectures, the next generation of algorithms after Random Forests (that use Bagging, a.k.a. Bootstrap Aggregation) were developed using Boosting, and the first one of these were Gradient Boosted Machines, which are implemented in scikit-learn (http://scikit-learn.org/stable/modules/ensemble.html#gradient-tree-boosting)."
   ]
  },
  {
   "cell_type": "markdown",
   "metadata": {},
   "source": [
    "Still, in recent years, a number of variations on GBMs have been developed by different research amd industry groups, all of them bringing improvements, both in speed, accuracy and functionality to the original Gradient Boosting algorithms.\n",
    "\n",
    "In no order of preference, these are:\n",
    "1. **XGBoost**: https://xgboost.readthedocs.io/en/latest/\n",
    "2. **CatBoost**: https://tech.yandex.com/catboost/\n",
    "3. **LightGBM**: https://lightgbm.readthedocs.io/en/latest/"
   ]
  },
  {
   "cell_type": "markdown",
   "metadata": {},
   "source": [
    "If you're using the Anaconda distribution, these are all very easy to install:"
   ]
  },
  {
   "cell_type": "code",
   "execution_count": null,
   "metadata": {},
   "outputs": [],
   "source": [
    "! conda install -c anaconda py-xgboost"
   ]
  },
  {
   "cell_type": "code",
   "execution_count": null,
   "metadata": {},
   "outputs": [],
   "source": [
    "! conda install -c conda-forge catboost"
   ]
  },
  {
   "cell_type": "code",
   "execution_count": null,
   "metadata": {},
   "outputs": [],
   "source": [
    "! conda install -c conda-forge lightgbm"
   ]
  },
  {
   "cell_type": "markdown",
   "metadata": {},
   "source": [
    "Your task in this optional section of the mini project is to read the documentation of these three libraries, and apply all of them to the \"German Credit\" dataset, just like you did in the case of Decision Trees and Random Forests."
   ]
  },
  {
   "cell_type": "markdown",
   "metadata": {},
   "source": [
    "The final deliverable of this section should be a table (can be a pandas DataFrame) which shows the accuracy of all the five algorthms taught in this mini project in one place."
   ]
  },
  {
   "cell_type": "markdown",
   "metadata": {},
   "source": [
    "Happy modeling! :)"
   ]
  },
  {
   "cell_type": "code",
   "execution_count": null,
   "metadata": {},
   "outputs": [],
   "source": []
  }
 ],
 "metadata": {
  "kernelspec": {
   "display_name": "Python 3",
   "language": "python",
   "name": "python3"
  },
  "language_info": {
   "codemirror_mode": {
    "name": "ipython",
    "version": 3
   },
   "file_extension": ".py",
   "mimetype": "text/x-python",
   "name": "python",
   "nbconvert_exporter": "python",
   "pygments_lexer": "ipython3",
   "version": "3.7.4"
  }
 },
 "nbformat": 4,
 "nbformat_minor": 4
}
