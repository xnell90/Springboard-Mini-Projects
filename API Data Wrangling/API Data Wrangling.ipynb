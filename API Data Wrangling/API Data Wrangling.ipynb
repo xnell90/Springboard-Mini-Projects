{
 "cells": [
  {
   "cell_type": "markdown",
   "metadata": {},
   "source": [
    "This exercise will require you to pull some data from the Qunadl API. Qaundl is currently the most widely used aggregator of financial market data."
   ]
  },
  {
   "cell_type": "markdown",
   "metadata": {},
   "source": [
    "As a first step, you will need to register a free account on the http://www.quandl.com website."
   ]
  },
  {
   "cell_type": "markdown",
   "metadata": {},
   "source": [
    "After you register, you will be provided with a unique API key, that you should store:"
   ]
  },
  {
   "cell_type": "code",
   "execution_count": 1,
   "metadata": {},
   "outputs": [],
   "source": [
    "# Store the API key as a string - according to PEP8, constants are always named in all upper case\n",
    "API_KEY = 'VNpuCzKZBS1z24CU1tpt'"
   ]
  },
  {
   "cell_type": "markdown",
   "metadata": {},
   "source": [
    "Qaundl has a large number of data sources, but, unfortunately, most of them require a Premium subscription. Still, there are also a good number of free datasets."
   ]
  },
  {
   "cell_type": "markdown",
   "metadata": {},
   "source": [
    "For this mini project, we will focus on equities data from the Frankfurt Stock Exhange (FSE), which is available for free. We'll try and analyze the stock prices of a company called Carl Zeiss Meditec, which manufactures tools for eye examinations, as well as medical lasers for laser eye surgery: https://www.zeiss.com/meditec/int/home.html. The company is listed under the stock ticker AFX_X."
   ]
  },
  {
   "cell_type": "markdown",
   "metadata": {},
   "source": [
    "You can find the detailed Quandl API instructions here: https://docs.quandl.com/docs/time-series"
   ]
  },
  {
   "cell_type": "markdown",
   "metadata": {},
   "source": [
    "While there is a dedicated Python package for connecting to the Quandl API, we would prefer that you use the *requests* package, which can be easily downloaded using *pip* or *conda*. You can find the documentation for the package here: http://docs.python-requests.org/en/master/ "
   ]
  },
  {
   "cell_type": "markdown",
   "metadata": {},
   "source": [
    "Finally, apart from the *requests* package, you are encouraged to not use any third party Python packages, such as *pandas*, and instead focus on what's available in the Python Standard Library (the *collections* module might come in handy: https://pymotw.com/3/collections/).\n",
    "Also, since you won't have access to DataFrames, you are encouraged to us Python's native data structures - preferably dictionaries, though some questions can also be answered using lists.\n",
    "You can read more on these data structures here: https://docs.python.org/3/tutorial/datastructures.html"
   ]
  },
  {
   "cell_type": "markdown",
   "metadata": {},
   "source": [
    "Keep in mind that the JSON responses you will be getting from the API map almost one-to-one to Python's dictionaries. Unfortunately, they can be very nested, so make sure you read up on indexing dictionaries in the documentation provided above."
   ]
  },
  {
   "cell_type": "code",
   "execution_count": 2,
   "metadata": {},
   "outputs": [],
   "source": [
    "# First, import the relevant modules\n",
    "import requests"
   ]
  },
  {
   "cell_type": "code",
   "execution_count": 3,
   "metadata": {},
   "outputs": [],
   "source": [
    "# Now, call the Quandl API and pull out a small sample of the data (only one day) to get a glimpse\n",
    "# into the JSON structure that will be returned\n",
    "response = requests.get(\"https://www.quandl.com/api/v3/datasets/FSE/AFX_X.json?api_key=\" + API_KEY)\n",
    "afx_x = response.json()"
   ]
  },
  {
   "cell_type": "code",
   "execution_count": 4,
   "metadata": {},
   "outputs": [
    {
     "name": "stdout",
     "output_type": "stream",
     "text": [
      "['id', 'dataset_code', 'database_code', 'name', 'description', 'refreshed_at', 'newest_available_date', 'oldest_available_date', 'column_names', 'frequency', 'type', 'premium', 'limit', 'transform', 'column_index', 'start_date', 'end_date', 'data', 'collapse', 'order', 'database_id']\n"
     ]
    }
   ],
   "source": [
    "# Inspect the JSON structure of the object you created, and take note of how nested it is,\n",
    "# as well as the overall structure\n",
    "\n",
    "# -- Note: afx_x is a phython dictionary that has the key \"dataset\". Its corresponding value has the following keys\n",
    "print(list(afx_x['dataset'].keys()))\n"
   ]
  },
  {
   "cell_type": "markdown",
   "metadata": {},
   "source": [
    "These are your tasks for this mini project:\n",
    "\n",
    "1. Collect data from the Franfurt Stock Exchange, for the ticker AFX_X, for the whole year 2017 (keep in mind that the date format is YYYY-MM-DD).\n",
    "2. Convert the returned JSON object into a Python dictionary.\n",
    "3. Calculate what the highest and lowest opening prices were for the stock in this period.\n",
    "4. What was the largest change in any one day (based on High and Low price)?\n",
    "5. What was the largest change between any two days (based on Closing Price)?\n",
    "6. What was the average daily trading volume during this year?\n",
    "7. (Optional) What was the median trading volume during this year. (Note: you may need to implement your own function for calculating the median.)"
   ]
  },
  {
   "cell_type": "code",
   "execution_count": 5,
   "metadata": {},
   "outputs": [],
   "source": [
    "#1\n",
    "\n",
    "#Filter out 2017 stock information\n",
    "\n",
    "afx_x_dataset = afx_x['dataset']\n",
    "afx_x_data = afx_x_dataset['data']\n",
    "\n",
    "column_names = afx_x_dataset['column_names']\n",
    "\n",
    "afx_x_2017_rows = []\n",
    "afx_x_2017 = {}\n",
    "\n",
    "for stock_info_at_date in afx_x_data:\n",
    "    date = stock_info_at_date[0]\n",
    "    year = date[0:4]\n",
    "    if year == '2017': afx_x_2017_rows.append(stock_info_at_date)\n",
    "        \n",
    "#Structure the data as a dictionary where the keys are the column names and values are from the row items\n",
    "for column_name in column_names:\n",
    "    afx_x_2017[column_name] = []\n",
    "    \n",
    "for row in afx_x_2017_rows:\n",
    "    for column_name, item in zip(column_names, row):\n",
    "        afx_x_2017[column_name].append(item)\n",
    "        \n",
    "#Check if afx_x_2017 is consistent with afx_x_2017_rows\n",
    "\n",
    "for i, column_name in enumerate(column_names):\n",
    "    column_values_dict = afx_x_2017[column_name]\n",
    "    column_values_list = [row[i] for row in afx_x_2017_rows]\n",
    "    if column_values_dict != column_values_list:\n",
    "        print(\"Error: column values do not match\")\n",
    "        \n",
    "#2 is already done"
   ]
  },
  {
   "cell_type": "code",
   "execution_count": 6,
   "metadata": {},
   "outputs": [
    {
     "name": "stdout",
     "output_type": "stream",
     "text": [
      "Highest opening stock price:  53.11\n",
      "Lowest opening stock price:  34.0\n"
     ]
    }
   ],
   "source": [
    "#3\n",
    "opening_stock_prices = [price for price in afx_x_2017['Open'] if price is not None]\n",
    "print(\"Highest opening stock price: \", max(opening_stock_prices))\n",
    "print(\"Lowest opening stock price: \", min(opening_stock_prices))"
   ]
  },
  {
   "cell_type": "code",
   "execution_count": 7,
   "metadata": {},
   "outputs": [
    {
     "name": "stdout",
     "output_type": "stream",
     "text": [
      "Largest change in any one day (based on high and low prices):  2.8100000000000023\n"
     ]
    }
   ],
   "source": [
    "#4\n",
    "high_low_difference = [\n",
    "    high - low \n",
    "    for high, low in zip(afx_x_2017['High'], afx_x_2017['Low'])\n",
    "]\n",
    "\n",
    "largest_high_low_difference = max(high_low_difference)\n",
    "\n",
    "print(\"Largest change in any one day (based on high and low prices): \", largest_high_low_difference)"
   ]
  },
  {
   "cell_type": "code",
   "execution_count": 8,
   "metadata": {},
   "outputs": [
    {
     "name": "stdout",
     "output_type": "stream",
     "text": [
      "Largest change between any two days (based on closing price):  19.03\n",
      "Largest change between two consecutive days (based on closing price):  2.559999999999995\n"
     ]
    }
   ],
   "source": [
    "#5\n",
    "\n",
    "closing_prices = afx_x_2017['Close']\n",
    "max_closing_price = max(closing_prices)\n",
    "min_closing_price = min(closing_prices)\n",
    "largest_closing_price_difference_1 = max_closing_price - min_closing_price\n",
    "\n",
    "print(\"Largest change between any two days (based on closing price): \", largest_closing_price_difference_1)\n",
    "\n",
    "largest_closing_price_difference_2 = max(\n",
    "    [\n",
    "        price_2 - price_1 \n",
    "        for price_1, price_2 in zip(closing_prices, closing_prices[1:])\n",
    "    ]\n",
    ")\n",
    "print(\"Largest change between two consecutive days (based on closing price): \", largest_closing_price_difference_2)"
   ]
  },
  {
   "cell_type": "code",
   "execution_count": 9,
   "metadata": {},
   "outputs": [
    {
     "name": "stdout",
     "output_type": "stream",
     "text": [
      "Average trading volume:  89124.33725490196\n"
     ]
    }
   ],
   "source": [
    "#6\n",
    "trading_volumes = afx_x_2017['Traded Volume']\n",
    "average_trading_volume = sum(trading_volumes) / len(trading_volumes)\n",
    "\n",
    "print(\"Average trading volume: \", average_trading_volume)"
   ]
  },
  {
   "cell_type": "code",
   "execution_count": 10,
   "metadata": {},
   "outputs": [
    {
     "name": "stdout",
     "output_type": "stream",
     "text": [
      "Median trading volume:  76286.0\n"
     ]
    }
   ],
   "source": [
    "#7\n",
    "def median(lst):\n",
    "    sorted_list = sorted(lst)\n",
    "    \n",
    "    if len(lst) % 2 != 0:\n",
    "        mid = (len(lst) - 1) // 2\n",
    "        \n",
    "        return sorted_list[mid]\n",
    "    else:\n",
    "        mid_l = (len(lst) - 1) // 2\n",
    "        mid_u = mid_l + 1\n",
    "        \n",
    "        return (sorted_list[mid_l] + sorted_list[mid_u]) / 2\n",
    "    \n",
    "median_trading_volumes = median(trading_volumes)\n",
    "print(\"Median trading volume: \", median_trading_volumes)"
   ]
  }
 ],
 "metadata": {
  "kernelspec": {
   "display_name": "Python 3",
   "language": "python",
   "name": "python3"
  },
  "language_info": {
   "codemirror_mode": {
    "name": "ipython",
    "version": 3
   },
   "file_extension": ".py",
   "mimetype": "text/x-python",
   "name": "python",
   "nbconvert_exporter": "python",
   "pygments_lexer": "ipython3",
   "version": "3.7.4"
  }
 },
 "nbformat": 4,
 "nbformat_minor": 4
}
